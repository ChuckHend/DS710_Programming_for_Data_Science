{
 "cells": [
  {
   "cell_type": "markdown",
   "metadata": {},
   "source": [
    "Welcome to the Jupyter notebook!\n",
    "\n",
    "This cell is a markdown cell, which means it contains text."
   ]
  },
  {
   "cell_type": "code",
   "execution_count": 1,
   "metadata": {},
   "outputs": [
    {
     "name": "stdout",
     "output_type": "stream",
     "text": [
      "hello world\n"
     ]
    }
   ],
   "source": [
    "#This cell is a code cell.  Pressing shift-enter or using the \"Run Cell\" button will evaluate the code in this cell.\n",
    "#The \"Run Cell\" button looks like a little black triangle.\n",
    "#Run the code in this cell.\n",
    "\n",
    "print(\"hello world\")"
   ]
  },
  {
   "cell_type": "code",
   "execution_count": 2,
   "metadata": {},
   "outputs": [
    {
     "name": "stdout",
     "output_type": "stream",
     "text": [
      "4\n"
     ]
    }
   ],
   "source": [
    "#create a variable named a, and store the value 3+1 in it\n",
    "a = 3+1\n",
    "\n",
    "#display a\n",
    "print(a)"
   ]
  },
  {
   "cell_type": "code",
   "execution_count": 3,
   "metadata": {},
   "outputs": [
    {
     "name": "stdout",
     "output_type": "stream",
     "text": [
      "three plus one is 4\n"
     ]
    }
   ],
   "source": [
    "#you can combine multiple objects in the same print statement\n",
    "\n",
    "print(\"three plus one is\", a)"
   ]
  },
  {
   "cell_type": "markdown",
   "metadata": {},
   "source": [
    "Change the cell below to output your first and last names."
   ]
  },
  {
   "cell_type": "code",
   "execution_count": 5,
   "metadata": {},
   "outputs": [
    {
     "name": "stdout",
     "output_type": "stream",
     "text": [
      "Adam Hendel\n"
     ]
    }
   ],
   "source": [
    "#Note that the usual Python convention is to separate words in variable names using underscores\n",
    "#Change the code below to store *your* first and last name.\n",
    "\n",
    "first_name = \"Adam\"\n",
    "last_name = \"Hendel\"\n",
    "print(first_name,last_name)"
   ]
  },
  {
   "cell_type": "code",
   "execution_count": 8,
   "metadata": {},
   "outputs": [
    {
     "name": "stdout",
     "output_type": "stream",
     "text": [
      "Given Name \t Surname \n",
      " Adam \t\t Hendel\n"
     ]
    }
   ],
   "source": [
    "#We can use the tab or \"\\t\" and newline or \"\\n\" characters to format our output.\n",
    "#Adjust the output below to format the text so that your first and last name appear in the appropriate column.\n",
    "\n",
    "print(\"Given Name\",\"\\t\",\"Surname\",\"\\n\",first_name,\"\\t\\t\", last_name)"
   ]
  },
  {
   "cell_type": "markdown",
   "metadata": {},
   "source": [
    "Insert a new cell below and change it to a markdown cell by using the dropdown menu at the top of the Jupyter notebook.\n",
    "\n",
    "In this markdown cell that you create, explain your process for modifiying the previous code cell above.\n",
    "\n",
    "In general, in your homework for this class, you may add mardown cells to explain or justify your programming choices."
   ]
  },
  {
   "cell_type": "markdown",
   "metadata": {},
   "source": [
    "### I added two tabs by adding \"\\t\\t\" between the variables first_name and last_name"
   ]
  },
  {
   "cell_type": "code",
   "execution_count": 10,
   "metadata": {},
   "outputs": [
    {
     "name": "stdout",
     "output_type": "stream",
     "text": [
      "Adam Hendel\n"
     ]
    }
   ],
   "source": [
    "#We can also combine strings using the + operator.\n",
    "#Adjust the output below so that it includes a space between your first and last name.\n",
    "print(first_name+\" \"+last_name)"
   ]
  },
  {
   "cell_type": "markdown",
   "metadata": {},
   "source": [
    "You can see a list of all of the functions associated to an object by typing the object's name followed by a period, then hitting tab."
   ]
  },
  {
   "cell_type": "code",
   "execution_count": 16,
   "metadata": {},
   "outputs": [
    {
     "data": {
      "text/plain": [
       "'ADAM'"
      ]
     },
     "execution_count": 16,
     "metadata": {},
     "output_type": "execute_result"
    }
   ],
   "source": [
    "#Find a function that will convert your given name to uppercase.\n",
    "first_name.upper()"
   ]
  },
  {
   "cell_type": "markdown",
   "metadata": {},
   "source": [
    "Now that we have had a chance to try out a few Python commands, go ahead and create a markdown cell to answer the following questions.\n",
    "1. What is your name?\n",
    "2. Why are you interested in Data Science?\n",
    "3. Tell us a little bit about your programming experience.  What programming courses have you taken?  Do you use programming on the job, and if so, how?\n",
    "4.  Tell us a little bit about your statistics experience.  What statistics courses have you taken?  Do you use statistics on the job, and if so, how?\n",
    "5.  Do you have other experience with R or Python?\n",
    "6.  What do you hope to learn in this class?\n",
    "7.  Is there anything else you would like to share with us?"
   ]
  },
  {
   "cell_type": "markdown",
   "metadata": {},
   "source": [
    "#Answers to questions listed above:\n",
    "\n",
    "1. Adam Hendel\n",
    "\n",
    "2. I like adventure and to learn new things. Fields that employ data scientists seem to offer the most opportunity to find hidden meaning in data.\n",
    "\n",
    "3. In college, I took a few programming courses from the CSCI dept, up to an object oriented programming class, an introductory course in data science and a data visualization clas (both taught in R). I also took a scientific programming course from the physics department. Programming is a pretty big piece of my job--I develop predictive models for a healthcare analytics organization. I also am somewhat experienced with bash, C, Arduino, and VBA but I rarely use these in my work.\n",
    "\n",
    "4. I studied physics and finance/accounting in college (these degrees are 9 years apart). I took a business stats course, and a stats course offered and required by the physics department. I also use statistics on a daily basis at my day job in healthcare analytics, most frequently in the exploration of a new dataset and in the application of a model or algorithm.\n",
    "\n",
    "5. I use python and R everyday, and love to dive into the debate between which is better, but I like them both for their own reasons.\n",
    "\n",
    "6. My software engineer friends laugh at my sloppy and inefficient programming style. I hope to learn more efficient ways to code and conduct statistical analysis in both python and R.\n",
    "\n",
    "7. UW-Eau Claire is my 'home campus' but I live near St. Paul, Minnesota. "
   ]
  },
  {
   "cell_type": "code",
   "execution_count": null,
   "metadata": {
    "collapsed": true
   },
   "outputs": [],
   "source": []
  }
 ],
 "metadata": {
  "anaconda-cloud": {},
  "kernelspec": {
   "display_name": "Python 3",
   "language": "python",
   "name": "python3"
  },
  "language_info": {
   "codemirror_mode": {
    "name": "ipython",
    "version": 3
   },
   "file_extension": ".py",
   "mimetype": "text/x-python",
   "name": "python",
   "nbconvert_exporter": "python",
   "pygments_lexer": "ipython3",
   "version": "3.6.1"
  }
 },
 "nbformat": 4,
 "nbformat_minor": 1
}
