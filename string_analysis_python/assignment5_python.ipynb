{
 "cells": [
  {
   "cell_type": "markdown",
   "metadata": {},
   "source": [
    "# Adam Hendel - DS710"
   ]
  },
  {
   "cell_type": "markdown",
   "metadata": {},
   "source": [
    "# Problem 1(a). Pig Latin.\n",
    "\n",
    "In \"Pig Latin\", English words are transformed according to the following rules:\n",
    "\n",
    "* If the word begins with one or more consonants, those consonants are moved to the end of the word, followed by \"ay\":\n",
    "\n",
    "  * pig -> igpay\n",
    "  * Latin -> Atinlay\n",
    "  * trash -> ashtray\n",
    "\n",
    "* If the word begins with \"qu\", both of these letters are moved to the end of the word, followed by \"ay\":\n",
    "\n",
    "  * quarter -> arterquay\n",
    "  \n",
    "* If the word begins with a vowel, it is followed by \"yay\":\n",
    "\n",
    "  * apple -> appleyay\n",
    "  * out -> outyay.\n",
    "\n",
    "\n",
    "Note that more than one consonant may be moved to the end of the word. Note also that \"y\" functions as a consonant at the start of words. Note also that capitalization should be preserved after manipulating the word. \n",
    "\n",
    "Write Python code that takes a word and converts it to Pig Latin.  If the input consists of multiple words or contains punctuation, your code should print a suitable error message. \n",
    "\n",
    "We want you to solve this problem from \"first principles,\" using what you learned about strings in lesson 5.  Do **not** use the **re** module or other regular expressions in this problem."
   ]
  },
  {
   "cell_type": "code",
   "execution_count": 1,
   "metadata": {},
   "outputs": [],
   "source": [
    "# list of vowels (note: y is consonant if its first letter in word)\n",
    "vowels = ['A', 'E', 'I', 'O', 'U', 'Y']"
   ]
  },
  {
   "cell_type": "code",
   "execution_count": 2,
   "metadata": {},
   "outputs": [
    {
     "name": "stdout",
     "output_type": "stream",
     "text": [
      "['!', '\"', '#', '$', '%', '&', \"'\", '(', ')', '*', '+', ',', '-', '.', '/', ':', ';', '<', '=', '>', '?', '@', '[', '\\\\', ']', '^', '_', '`', '{', '|', '}', '~', ' ']\n"
     ]
    }
   ],
   "source": [
    "import string\n",
    "# include the list of punctuations as invalid entries\n",
    "invalids = string.punctuation\n",
    "invalids = list(invalids)\n",
    "invalids.append(' ')\n",
    "print(invalids)"
   ]
  },
  {
   "cell_type": "code",
   "execution_count": 3,
   "metadata": {},
   "outputs": [
    {
     "name": "stdout",
     "output_type": "stream",
     "text": [
      "{'1': 'Input Contains on or more of [\\'!\\', \\'\"\\', \\'#\\', \\'$\\', \\'%\\', \\'&\\', \"\\'\", \\'(\\', \\')\\', \\'*\\', \\'+\\', \\',\\', \\'-\\', \\'.\\', \\'/\\', \\':\\', \\';\\', \\'<\\', \\'=\\', \\'>\\', \\'?\\', \\'@\\', \\'[\\', \\'\\\\\\\\\\', \\']\\', \\'^\\', \\'_\\', \\'`\\', \\'{\\', \\'|\\', \\'}\\', \\'~\\', \\' \\']'}\n"
     ]
    }
   ],
   "source": [
    "errorDict={'1': 'Input Contains on or more of {}'.format(invalids)}\n",
    "print(errorDict)"
   ]
  },
  {
   "cell_type": "code",
   "execution_count": 4,
   "metadata": {},
   "outputs": [],
   "source": [
    "def pigLat(english, vowels, invalids):\n",
    "    # check if the user input is invalid\n",
    "    for ltr in english:\n",
    "        if ltr in invalids:\n",
    "            return 'Invalid Entry: Code 1'\n",
    "            \n",
    "    cap=english[0].isupper() # is the word capitalized?\n",
    "    \n",
    "    pl=''\n",
    "    \n",
    "    if english[0].upper() in vowels[:-1]: # is first letter a vowel, excluding Y\n",
    "        pl='{}yay'.format(english)\n",
    "    \n",
    "    elif english[0:2].upper()=='QU': # is first pair a 'QU'?\n",
    "        beg=english[2:]\n",
    "        pl='{}quay'.format(beg)\n",
    "    \n",
    "    else:\n",
    "        idx=''\n",
    "        for i, ltr in enumerate(english): # iterate til we find a vowel\n",
    "            if ltr.upper() in vowels:\n",
    "                if ltr.upper()=='Y':\n",
    "                    idx=i\n",
    "                else: break\n",
    "            else:\n",
    "                idx=i\n",
    "        beg=english[idx+1:]\n",
    "        end=english[:idx+1]\n",
    "        pl='{}{}ay'.format(beg,end)\n",
    "        \n",
    "    if cap:\n",
    "        pl=pl.title()\n",
    "        \n",
    "    return pl"
   ]
  },
  {
   "cell_type": "code",
   "execution_count": 5,
   "metadata": {},
   "outputs": [
    {
     "name": "stdout",
     "output_type": "stream",
     "text": [
      "Wisconsin\n"
     ]
    },
    {
     "data": {
      "text/plain": [
       "'Isconsinway'"
      ]
     },
     "execution_count": 5,
     "metadata": {},
     "output_type": "execute_result"
    }
   ],
   "source": [
    "# get word from user\n",
    "word=input()\n",
    "# call the function\n",
    "pigLat(english=word, vowels=vowels, invalids=invalids)"
   ]
  },
  {
   "cell_type": "markdown",
   "metadata": {},
   "source": [
    "# Problem 1(b). Test Suite.\n",
    "\n",
    "Test your code on the following words, and be sure your output matches what is shown on the right hand side of each arrow. Print the results of each test. If your output does not match, then fix your code in 1(a). \n",
    "\n",
    "    * orange -> orangeyay\n",
    "    * yellow -> ellowyay\n",
    "    * Strip -> Ipstray\n",
    "    * quarter -> arterquay\n",
    "    * schmooze -> oozeschmay\n",
    "    * a -> ayay\n",
    "    * Pig Latin -> (should produce an error message)\n",
    "    * Ke$ha -> (should produce an error message)\n",
    "    \n",
    "    "
   ]
  },
  {
   "cell_type": "code",
   "execution_count": 6,
   "metadata": {},
   "outputs": [],
   "source": [
    "# create dictonary with keys as test words and values as correct translations\n",
    "test={\n",
    "    'orange': 'orangeyay',\n",
    "    'yellow': 'ellowyay',\n",
    "    'Strip': 'Ipstray',\n",
    "    'quarter': 'arterquay',\n",
    "    'schmooze': 'oozeschmay',\n",
    "    'a': 'ayay',\n",
    "    'Pig Latin': 'Invalid Entry: Code 1',\n",
    "    'Ke$ha': 'Invalid Entry: Code 1'\n",
    "     }"
   ]
  },
  {
   "cell_type": "code",
   "execution_count": 7,
   "metadata": {},
   "outputs": [
    {
     "data": {
      "text/html": [
       "<div>\n",
       "<style>\n",
       "    .dataframe thead tr:only-child th {\n",
       "        text-align: right;\n",
       "    }\n",
       "\n",
       "    .dataframe thead th {\n",
       "        text-align: left;\n",
       "    }\n",
       "\n",
       "    .dataframe tbody tr th {\n",
       "        vertical-align: top;\n",
       "    }\n",
       "</style>\n",
       "<table border=\"1\" class=\"dataframe\">\n",
       "  <thead>\n",
       "    <tr style=\"text-align: right;\">\n",
       "      <th></th>\n",
       "      <th>Word</th>\n",
       "      <th>Result</th>\n",
       "      <th>Answer</th>\n",
       "      <th>Correct?</th>\n",
       "    </tr>\n",
       "  </thead>\n",
       "  <tbody>\n",
       "    <tr>\n",
       "      <th>0</th>\n",
       "      <td>orange</td>\n",
       "      <td>orangeyay</td>\n",
       "      <td>orangeyay</td>\n",
       "      <td>True</td>\n",
       "    </tr>\n",
       "    <tr>\n",
       "      <th>1</th>\n",
       "      <td>yellow</td>\n",
       "      <td>ellowyay</td>\n",
       "      <td>ellowyay</td>\n",
       "      <td>True</td>\n",
       "    </tr>\n",
       "    <tr>\n",
       "      <th>2</th>\n",
       "      <td>Strip</td>\n",
       "      <td>Ipstray</td>\n",
       "      <td>Ipstray</td>\n",
       "      <td>True</td>\n",
       "    </tr>\n",
       "    <tr>\n",
       "      <th>3</th>\n",
       "      <td>quarter</td>\n",
       "      <td>arterquay</td>\n",
       "      <td>arterquay</td>\n",
       "      <td>True</td>\n",
       "    </tr>\n",
       "    <tr>\n",
       "      <th>4</th>\n",
       "      <td>schmooze</td>\n",
       "      <td>oozeschmay</td>\n",
       "      <td>oozeschmay</td>\n",
       "      <td>True</td>\n",
       "    </tr>\n",
       "    <tr>\n",
       "      <th>5</th>\n",
       "      <td>a</td>\n",
       "      <td>ayay</td>\n",
       "      <td>ayay</td>\n",
       "      <td>True</td>\n",
       "    </tr>\n",
       "    <tr>\n",
       "      <th>6</th>\n",
       "      <td>Pig Latin</td>\n",
       "      <td>Invalid Entry: Code 1</td>\n",
       "      <td>Invalid Entry: Code 1</td>\n",
       "      <td>True</td>\n",
       "    </tr>\n",
       "    <tr>\n",
       "      <th>7</th>\n",
       "      <td>Ke$ha</td>\n",
       "      <td>Invalid Entry: Code 1</td>\n",
       "      <td>Invalid Entry: Code 1</td>\n",
       "      <td>True</td>\n",
       "    </tr>\n",
       "  </tbody>\n",
       "</table>\n",
       "</div>"
      ],
      "text/plain": [
       "        Word                 Result                 Answer Correct?\n",
       "0     orange              orangeyay              orangeyay     True\n",
       "1     yellow               ellowyay               ellowyay     True\n",
       "2      Strip                Ipstray                Ipstray     True\n",
       "3    quarter              arterquay              arterquay     True\n",
       "4   schmooze             oozeschmay             oozeschmay     True\n",
       "5          a                   ayay                   ayay     True\n",
       "6  Pig Latin  Invalid Entry: Code 1  Invalid Entry: Code 1     True\n",
       "7      Ke$ha  Invalid Entry: Code 1  Invalid Entry: Code 1     True"
      ]
     },
     "execution_count": 7,
     "metadata": {},
     "output_type": "execute_result"
    }
   ],
   "source": [
    "import pandas as pd\n",
    "testResults = pd.DataFrame(columns=['Word', 'Result', 'Answer', 'Correct?'])\n",
    "\n",
    "for wrd in test:\n",
    "    result=pigLat(english=wrd, vowels=vowels, invalids=invalids)\n",
    "    d={'Word': wrd, 'Result': result, 'Answer':test[wrd], 'Correct?': test[wrd]==result}\n",
    "    testResults=testResults.append(d, ignore_index=True)\n",
    "    \n",
    "testResults"
   ]
  },
  {
   "cell_type": "markdown",
   "metadata": {},
   "source": [
    "# Problem 2(a).  Letter Frequencies.\n",
    "\n",
    "The files ```encryptedA.txt``` and ```encryptedB.txt``` contain two different encrypted messages on similar topics.  One message was originally in English and one was in Welsh.  \n",
    "\n",
    "Write Python code that reads a text file into memory and creates a dictionary object with a frequency count for each letter.  For example, for ```encryptedA.txt```, your output should contain the key:value pairs ```'a': 78``` and ```'b': 31 ```.  Do not distinguish between uppercase and lowercase letters, and ignore punctuation. If a given letter does not appear in the text, there should be a key:value pair with value 0. \n",
    "\n",
    "Use Python to determine which letter has the highest frequency in each text file, and print the result."
   ]
  },
  {
   "cell_type": "code",
   "execution_count": 8,
   "metadata": {},
   "outputs": [],
   "source": [
    "# read in file\n",
    "with open(\"encryptedA.txt\") as infile:\n",
    "    text = infile.read()"
   ]
  },
  {
   "cell_type": "code",
   "execution_count": 9,
   "metadata": {},
   "outputs": [],
   "source": [
    "# convert all to lowercase for comparison\n",
    "text=text.lower()"
   ]
  },
  {
   "cell_type": "code",
   "execution_count": 10,
   "metadata": {},
   "outputs": [],
   "source": [
    "# get list of letters\n",
    "alpha=string.ascii_lowercase"
   ]
  },
  {
   "cell_type": "code",
   "execution_count": 11,
   "metadata": {},
   "outputs": [
    {
     "name": "stdout",
     "output_type": "stream",
     "text": [
      "{'a': 78, 'b': 31, 'c': 88, 'd': 28, 'e': 0, 'f': 18, 'g': 78, 'h': 0, 'i': 7, 'j': 36, 'k': 22, 'l': 32, 'm': 76, 'n': 0, 'o': 0, 'p': 0, 'q': 41, 'r': 114, 's': 0, 't': 19, 'u': 70, 'v': 27, 'w': 76, 'x': 72, 'y': 40, 'z': 16}\n"
     ]
    }
   ],
   "source": [
    "alpha_dict = {}\n",
    "\n",
    "for a in alpha:\n",
    "    alpha_dict[a] = text.count(a)\n",
    "\n",
    "print(alpha_dict)"
   ]
  },
  {
   "cell_type": "code",
   "execution_count": 12,
   "metadata": {},
   "outputs": [
    {
     "name": "stdout",
     "output_type": "stream",
     "text": [
      "r\n"
     ]
    }
   ],
   "source": [
    "maximum = max(alpha_dict, key=alpha_dict.get)\n",
    "print(maximum)"
   ]
  },
  {
   "cell_type": "markdown",
   "metadata": {},
   "source": [
    "#### Now make a function that returns the letter of highest freq, so we can call it"
   ]
  },
  {
   "cell_type": "code",
   "execution_count": 13,
   "metadata": {},
   "outputs": [],
   "source": [
    "def highFreq(file):\n",
    "    with open(file) as infile:\n",
    "        text=infile.read()\n",
    "    text=text.lower()\n",
    "    alpha=alpha=string.ascii_lowercase\n",
    "    alpha_dict = {}\n",
    "\n",
    "    for a in alpha:\n",
    "        alpha_dict[a] = text.count(a)\n",
    "\n",
    "    maximum = max(alpha_dict, key=alpha_dict.get)\n",
    "    return (maximum, alpha_dict[maximum])"
   ]
  },
  {
   "cell_type": "code",
   "execution_count": 14,
   "metadata": {},
   "outputs": [],
   "source": [
    "# list of files to analyze\n",
    "files =['encryptedA.txt', 'encryptedB.txt']"
   ]
  },
  {
   "cell_type": "code",
   "execution_count": 15,
   "metadata": {},
   "outputs": [
    {
     "name": "stdout",
     "output_type": "stream",
     "text": [
      "('r', 114) encryptedA.txt\n",
      "('v', 122) encryptedB.txt\n"
     ]
    }
   ],
   "source": [
    "# analyze the list of files\n",
    "for file in files:\n",
    "    print(highFreq(file), file)"
   ]
  },
  {
   "cell_type": "markdown",
   "metadata": {},
   "source": [
    "# Problem 2(b).  Formatting for R.\n",
    "\n",
    "Write your dictionaries with frequency counts to ```.csv``` files, with one column for the key and one column for the frequency counted."
   ]
  },
  {
   "cell_type": "code",
   "execution_count": 16,
   "metadata": {},
   "outputs": [],
   "source": [
    "import csv"
   ]
  },
  {
   "cell_type": "code",
   "execution_count": 17,
   "metadata": {},
   "outputs": [],
   "source": [
    "def countToCsv(file):\n",
    "    with open(file) as infile:\n",
    "        text=infile.read()\n",
    "    text=text.lower()\n",
    "    alpha=alpha=string.ascii_lowercase\n",
    "    alpha_dict = {}\n",
    "\n",
    "    for a in alpha:\n",
    "        alpha_dict[a] = text.count(a)\n",
    "    \n",
    "    file=file.replace('.txt', '') # drop the file extension from string\n",
    "    with open(\"{}_freq.csv\".format(file), \"w\", newline=\"\") as alpha_freq:\n",
    "        writer = csv.writer(alpha_freq)\n",
    "        writer.writerows(alpha_dict.items())"
   ]
  },
  {
   "cell_type": "code",
   "execution_count": 18,
   "metadata": {},
   "outputs": [],
   "source": [
    "for file in files:\n",
    "    countToCsv(file)"
   ]
  },
  {
   "cell_type": "code",
   "execution_count": null,
   "metadata": {},
   "outputs": [],
   "source": []
  }
 ],
 "metadata": {
  "anaconda-cloud": {},
  "kernelspec": {
   "display_name": "Python 3",
   "language": "python",
   "name": "python3"
  },
  "language_info": {
   "codemirror_mode": {
    "name": "ipython",
    "version": 3
   },
   "file_extension": ".py",
   "mimetype": "text/x-python",
   "name": "python",
   "nbconvert_exporter": "python",
   "pygments_lexer": "ipython3",
   "version": "3.6.2"
  }
 },
 "nbformat": 4,
 "nbformat_minor": 1
}
