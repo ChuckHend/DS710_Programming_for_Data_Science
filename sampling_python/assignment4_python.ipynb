{
 "cells": [
  {
   "cell_type": "markdown",
   "metadata": {},
   "source": [
    "# ADAM HENDEL: DS710-Assignment 4"
   ]
  },
  {
   "cell_type": "markdown",
   "metadata": {},
   "source": [
    "# Problem 1.  Revenue models.\n",
    "\n",
    "Average monthly revenue at each store in the TableFarm salad chain is $\\$100,000$, with a standard deviation of $\\$12,000$.  An advertising firm claims they can increase monthly revenue to $\\$120,000$, but the standard deviation will be increased as well, to $\\$25,000$.\n",
    "\n",
    "Write Python code to generate three lists of random numbers which model potential revenue: one list with 12 months of revenue using the current mean and standard deviation, another list with 12 months of revenue using the predicted mean and standard deviation, and a third list containing the revenue of all 24 months.  Print your third list.  You can assume a normal distribution.  Round each number to the nearest $\\$1,000$."
   ]
  },
  {
   "cell_type": "code",
   "execution_count": 1,
   "metadata": {
    "collapsed": true
   },
   "outputs": [],
   "source": [
    "# distribution information\n",
    "meanRev = 120000\n",
    "sdRev = 25000"
   ]
  },
  {
   "cell_type": "code",
   "execution_count": 2,
   "metadata": {
    "collapsed": true
   },
   "outputs": [],
   "source": [
    "import numpy as np"
   ]
  },
  {
   "cell_type": "markdown",
   "metadata": {},
   "source": [
    "## Current Revenue"
   ]
  },
  {
   "cell_type": "code",
   "execution_count": 3,
   "metadata": {
    "collapsed": true
   },
   "outputs": [],
   "source": [
    "# mean and standard deviation\n",
    "mu, sigma = 100000, 12000 \n",
    "# generate random numbers\n",
    "currRev = np.random.normal(mu, sigma, 12)\n",
    "# round to thousands\n",
    "currRev = np.around(currRev, decimals = -3)\n",
    "# convert to list\n",
    "currRev = list(currRev)"
   ]
  },
  {
   "cell_type": "markdown",
   "metadata": {},
   "source": [
    "## Predicted Revenue"
   ]
  },
  {
   "cell_type": "code",
   "execution_count": 4,
   "metadata": {
    "collapsed": true
   },
   "outputs": [],
   "source": [
    "# mean and standard deviation\n",
    "mu, sigma = 120000, 25000 \n",
    "# generate random numbers\n",
    "predRev = np.random.normal(mu, sigma, 12)\n",
    "# round to thousands\n",
    "predRev = np.around(predRev, decimals = -3)\n",
    "# convert to list\n",
    "predRev = list(predRev)"
   ]
  },
  {
   "cell_type": "markdown",
   "metadata": {},
   "source": [
    "## 24 Months // Current and Predicted Revenue"
   ]
  },
  {
   "cell_type": "code",
   "execution_count": 5,
   "metadata": {},
   "outputs": [
    {
     "name": "stdout",
     "output_type": "stream",
     "text": [
      "[71000.0, 108000.0, 85000.0, 111000.0, 98000.0, 105000.0, 97000.0, 83000.0, 90000.0, 107000.0, 86000.0, 69000.0, 156000.0, 151000.0, 93000.0, 124000.0, 128000.0, 116000.0, 137000.0, 86000.0, 110000.0, 111000.0, 107000.0, 150000.0]\n"
     ]
    }
   ],
   "source": [
    "allRev = currRev + predRev\n",
    "print(allRev)"
   ]
  },
  {
   "cell_type": "markdown",
   "metadata": {},
   "source": [
    "# Problem 2(a).  Bus arrival times.\n",
    "\n",
    "Shuttle buses arrive at an airport to fetch passengers with an average interval of 15 minutes.  Their actual interarrival times follow an **exponential distribution**.  Use the ```random``` module to generate a list of 50 different bus intervals, rounded to the nearest tenth of a minute.  For example, your list might begin ```[11.2, 34.1, 18.8, 23.5, ...]```.  Print your list.\n",
    "\n",
    "Use Python to answer the following questions:  What is the shortest waiting time in your list?  What is the longest waiting time?"
   ]
  },
  {
   "cell_type": "code",
   "execution_count": 6,
   "metadata": {},
   "outputs": [
    {
     "name": "stdout",
     "output_type": "stream",
     "text": [
      "[8.2, 4.0, 10.4, 73.1, 3.6, 22.4, 7.3, 0.9, 3.9, 49.0, 2.5, 12.4, 30.4, 7.8, 29.6, 5.0, 2.6, 1.2, 18.9, 22.9, 5.0, 17.3, 2.4, 2.1, 13.1, 19.8, 7.0, 1.2, 62.5, 16.3, 39.3, 3.9, 3.0, 8.2, 4.5, 2.0, 35.7, 8.2, 19.5, 1.2, 2.3, 2.0, 49.7, 4.7, 1.5, 1.9, 1.9, 1.4, 1.6, 18.2]\n"
     ]
    }
   ],
   "source": [
    "import random\n",
    "\n",
    "averageInterval = 15.0\n",
    "\n",
    "# generate list of 50 bus intervals-exponential distro\n",
    "arrivals = []\n",
    "for arrival in range(50):\n",
    "    arrival = round(random.expovariate(1 / averageInterval),1)\n",
    "    arrivals.append(arrival)\n",
    "    \n",
    "print(arrivals)"
   ]
  },
  {
   "cell_type": "markdown",
   "metadata": {},
   "source": [
    "### Shortest waiting time in list:"
   ]
  },
  {
   "cell_type": "code",
   "execution_count": 7,
   "metadata": {},
   "outputs": [
    {
     "name": "stdout",
     "output_type": "stream",
     "text": [
      "Mininum wait time is 0.9 minutes.\n"
     ]
    }
   ],
   "source": [
    "minWait = min(arrivals)\n",
    "print('Mininum wait time is {} minutes.'.format(minWait))"
   ]
  },
  {
   "cell_type": "markdown",
   "metadata": {},
   "source": [
    "### Longest waiting time in list:"
   ]
  },
  {
   "cell_type": "code",
   "execution_count": 8,
   "metadata": {},
   "outputs": [
    {
     "name": "stdout",
     "output_type": "stream",
     "text": [
      "Maximum wait time is 73.1 minutes.\n"
     ]
    }
   ],
   "source": [
    "maxWait = max(arrivals)\n",
    "print('Maximum wait time is {} minutes.'.format(maxWait))"
   ]
  },
  {
   "cell_type": "markdown",
   "metadata": {},
   "source": [
    "# Problem 2(b).  Cumulative waiting times.\n",
    "\n",
    "Suppose the first bus arrives at the measured number of minutes after midnight.  The bus company wants to track the time each bus arrived, measured in minutes after midnight.  Make a list of the number of minutes after midnight that each bus arrived at, using the list you generated in part (a).  With our example in part (a), for instance, the answer would start ```[11.2, 45.3, 64.1, 87.6, ...]```.  Print the list.\n",
    "\n",
    "Using the list generated in 2(a), at what time does the 50th bus arrive? Print the time in the format HH:MM AM/PM where HH is the hour and MM is the minute. (Note that HH should be between 01 and 12.) [Do *not* generate a new list; make sure to use the list of intervals already generated in 2(a).]"
   ]
  },
  {
   "cell_type": "code",
   "execution_count": 9,
   "metadata": {},
   "outputs": [
    {
     "name": "stdout",
     "output_type": "stream",
     "text": [
      "[   8.2   12.2   22.6   95.7   99.3  121.7  129.   129.9  133.8  182.8\n",
      "  185.3  197.7  228.1  235.9  265.5  270.5  273.1  274.3  293.2  316.1\n",
      "  321.1  338.4  340.8  342.9  356.   375.8  382.8  384.   446.5  462.8\n",
      "  502.1  506.   509.   517.2  521.7  523.7  559.4  567.6  587.1  588.3\n",
      "  590.6  592.6  642.3  647.   648.5  650.4  652.3  653.7  655.3  673.5]\n"
     ]
    }
   ],
   "source": [
    "cumulative = []\n",
    "cumArrival = 0\n",
    "for arrival in arrivals:\n",
    "    cumArrival += arrival\n",
    "    cumulative.append(cumArrival)\n",
    "\n",
    "cumulative = np.around(cumulative, decimals=1)\n",
    "print (cumulative)"
   ]
  },
  {
   "cell_type": "markdown",
   "metadata": {},
   "source": [
    "### Arrival time of 50th bus"
   ]
  },
  {
   "cell_type": "code",
   "execution_count": 10,
   "metadata": {},
   "outputs": [
    {
     "name": "stdout",
     "output_type": "stream",
     "text": [
      "11:13 AM\n"
     ]
    }
   ],
   "source": [
    "# select 50th bus\n",
    "totMinutes = cumulative[-1]\n",
    "# convert minutes to hours\n",
    "hours = totMinutes/60\n",
    "# assign to appropriate period\n",
    "if hours > 12:\n",
    "    period = 'PM'\n",
    "    if(hours>=13):\n",
    "        hour = int(hours-12)\n",
    "    else:\n",
    "        hour = int(hours)\n",
    "else:\n",
    "    period = 'AM'\n",
    "    hour = int(hours)\n",
    "# assign minutes\n",
    "minutes = int(60*(hours%1))\n",
    "\n",
    "# format outstring\n",
    "if hour<10:\n",
    "    hour='0{}'.format(hour)\n",
    "if minutes<10:\n",
    "    minutes='0{}'.format(minutes)\n",
    "\n",
    "outStr = '{}:{} {}'.format(hour, minutes, period)\n",
    "print(outStr)"
   ]
  },
  {
   "cell_type": "markdown",
   "metadata": {},
   "source": [
    "# Problem 3(a).  Chocolate and the Nobel.\n",
    "\n",
    "Researchers have observed a (presumably spurious) correlation between per capita chocolate consumption and the rate of Nobel prize laureates: see [Chocolate Consumption, Cognitive Function, and Nobel Laureates](http://www.nejm.org/doi/full/10.1056/NEJMon1211064).  In this problem, we will create some sample data to simulate this relationship.\n",
    "\n",
    "Write Python code to produce a list of 50 ordered pairs $(c,n)$, where $c$ represents chocolate consumption in kg/year/person and $n$ represents the number of Nobel laureates per 10 million population.  The values for $c$ should be random numbers (not necessarily integers!) between 0 and 15.  You may assume that $c$ and $n$ are related by\n",
    "\n",
    "$n = 0.4\\cdot c-0.8$.\n",
    "\n",
    "However, it is not possible for a nation to have a negative number of Nobel laureates, so if your predicted value of $n$ is less than 0, replace that value by 0.\n",
    "\n",
    "Report your values of $c$ and $n$ to 2 decimal places.  Print your list of ordered pairs."
   ]
  },
  {
   "cell_type": "code",
   "execution_count": 19,
   "metadata": {
    "collapsed": true
   },
   "outputs": [],
   "source": [
    "import random\n",
    "import matplotlib.pyplot as plt"
   ]
  },
  {
   "cell_type": "code",
   "execution_count": 119,
   "metadata": {
    "collapsed": true
   },
   "outputs": [],
   "source": [
    "results =[]\n",
    "for i in range(50):\n",
    "    c=round(random.randrange(0.0,16.0)+random.randrange(0,100)/100,2)\n",
    "    laureats = round((c*0.4)-0.8,2)\n",
    "    if laureats<0: laureats=0\n",
    "    n=laureats\n",
    "    results.append((c,n))"
   ]
  },
  {
   "cell_type": "code",
   "execution_count": 120,
   "metadata": {},
   "outputs": [
    {
     "name": "stdout",
     "output_type": "stream",
     "text": [
      "(4.3, 0.92)\n",
      "(11.45, 3.78)\n",
      "(10.82, 3.53)\n",
      "(9.45, 2.98)\n",
      "(8.13, 2.45)\n",
      "(13.62, 4.65)\n",
      "(11.72, 3.89)\n",
      "(13.58, 4.63)\n",
      "(0.87, 0)\n",
      "(6.81, 1.92)\n",
      "(12.79, 4.32)\n",
      "(2.0, 0.0)\n",
      "(2.45, 0.18)\n",
      "(7.58, 2.23)\n",
      "(14.52, 5.01)\n",
      "(8.01, 2.4)\n",
      "(7.95, 2.38)\n",
      "(12.4, 4.16)\n",
      "(11.62, 3.85)\n",
      "(6.52, 1.81)\n",
      "(1.7, 0)\n",
      "(3.9, 0.76)\n",
      "(0.84, 0)\n",
      "(1.59, 0)\n",
      "(7.35, 2.14)\n",
      "(6.86, 1.94)\n",
      "(6.56, 1.82)\n",
      "(13.48, 4.59)\n",
      "(8.22, 2.49)\n",
      "(1.88, 0)\n",
      "(14.05, 4.82)\n",
      "(4.02, 0.81)\n",
      "(8.71, 2.68)\n",
      "(3.17, 0.47)\n",
      "(13.08, 4.43)\n",
      "(4.3, 0.92)\n",
      "(6.98, 1.99)\n",
      "(1.68, 0)\n",
      "(8.17, 2.47)\n",
      "(2.0, 0.0)\n",
      "(7.84, 2.34)\n",
      "(8.34, 2.54)\n",
      "(7.97, 2.39)\n",
      "(11.8, 3.92)\n",
      "(6.19, 1.68)\n",
      "(6.77, 1.91)\n",
      "(10.79, 3.52)\n",
      "(1.02, 0)\n",
      "(12.84, 4.34)\n",
      "(9.48, 2.99)\n"
     ]
    }
   ],
   "source": [
    "for pair in results:\n",
    "    print (pair)"
   ]
  },
  {
   "cell_type": "markdown",
   "metadata": {},
   "source": [
    "# Problem 3(b).  Error term.\n",
    "\n",
    "Our list of data from part (a) is not a good simulation of real-world data, because it is perfectly linear.  Starting with the $c$ and $n$ values you generated in part (a), generate new $n_e$ values, using the following formula:\n",
    "\n",
    "$n_e = n + \\epsilon.$\n",
    "\n",
    "Here $\\epsilon$ should be a random variable with normal distribution, mean 0, and standard deviation 1.  Using the list of ordered pairs generated in 3(a), create a new list of 50 ordered pairs $(c,n_e)$.  \n",
    "\n",
    "Again, your simulated data should not predict negative numbers of Nobel laureates. Again, do *not* generate a new list; make sure to use the list of ordered pairs already generated in 3(a).\n",
    "\n",
    "Print your new list of ordered pairs."
   ]
  },
  {
   "cell_type": "code",
   "execution_count": 128,
   "metadata": {},
   "outputs": [],
   "source": [
    "# generarte 50 errors, add error term to prior results\n",
    "newResults = []\n",
    "for i in range(len(results)):\n",
    "    error=random.normalvariate(mu=0,sigma=1)\n",
    "    laureats=round(results[i][1]+error,2)\n",
    "    if laureats<0: laureats=0\n",
    "    n=laureats\n",
    "    c=results[i][0]\n",
    "    newResults.append((c,n))"
   ]
  },
  {
   "cell_type": "code",
   "execution_count": 129,
   "metadata": {},
   "outputs": [
    {
     "name": "stdout",
     "output_type": "stream",
     "text": [
      "(4.3, 0.15)\n",
      "(11.45, 4.36)\n",
      "(10.82, 1.52)\n",
      "(9.45, 0.63)\n",
      "(8.13, 1.2)\n",
      "(13.62, 5.25)\n",
      "(11.72, 3.38)\n",
      "(13.58, 4.23)\n",
      "(0.87, 0)\n",
      "(6.81, 3.59)\n",
      "(12.79, 4.17)\n",
      "(2.0, 1.2)\n",
      "(2.45, 0.17)\n",
      "(7.58, 0.36)\n",
      "(14.52, 5.86)\n",
      "(8.01, 3.18)\n",
      "(7.95, 1.72)\n",
      "(12.4, 3.08)\n",
      "(11.62, 3.41)\n",
      "(6.52, 2.78)\n",
      "(1.7, 1.35)\n",
      "(3.9, 2.13)\n",
      "(0.84, 0)\n",
      "(1.59, 1.02)\n",
      "(7.35, 1.38)\n",
      "(6.86, 3.77)\n",
      "(6.56, 0)\n",
      "(13.48, 4.25)\n",
      "(8.22, 3.17)\n",
      "(1.88, 0)\n",
      "(14.05, 4.45)\n",
      "(4.02, 0.78)\n",
      "(8.71, 1.66)\n",
      "(3.17, 0.54)\n",
      "(13.08, 5.18)\n",
      "(4.3, 0.16)\n",
      "(6.98, 2.82)\n",
      "(1.68, 0.64)\n",
      "(8.17, 2.04)\n",
      "(2.0, 0)\n",
      "(7.84, 1.52)\n",
      "(8.34, 2.49)\n",
      "(7.97, 1.09)\n",
      "(11.8, 3.3)\n",
      "(6.19, 3.43)\n",
      "(6.77, 1.52)\n",
      "(10.79, 2.99)\n",
      "(1.02, 0)\n",
      "(12.84, 4.26)\n",
      "(9.48, 2.91)\n"
     ]
    }
   ],
   "source": [
    "# iterate-print for easy reading\n",
    "for pair in newResults:\n",
    "    print(pair)"
   ]
  },
  {
   "cell_type": "markdown",
   "metadata": {},
   "source": [
    "# Problem 3(c).  Winners and losers.\n",
    "\n",
    "Make a new list consisting of all of the ordered pairs from your list from part (b) such that $n_e > 0.4\\cdot c -0.8$. Print this new (shorter) list. Use Python to calculate how many items are in your list of winners."
   ]
  },
  {
   "cell_type": "code",
   "execution_count": 134,
   "metadata": {},
   "outputs": [
    {
     "name": "stdout",
     "output_type": "stream",
     "text": [
      "21 total winners!\n"
     ]
    }
   ],
   "source": [
    "winners = []\n",
    "for pair in newResults:\n",
    "    thresh=(pair[0]*0.4)-0.8\n",
    "    if pair[1]>thresh:\n",
    "        winners.append(pair)\n",
    "print('{} total winners!'.format(len(winners)))"
   ]
  },
  {
   "cell_type": "code",
   "execution_count": 135,
   "metadata": {},
   "outputs": [
    {
     "name": "stdout",
     "output_type": "stream",
     "text": [
      "(11.45, 4.36)\n",
      "(13.62, 5.25)\n",
      "(0.87, 0)\n",
      "(6.81, 3.59)\n",
      "(2.0, 1.2)\n",
      "(14.52, 5.86)\n",
      "(8.01, 3.18)\n",
      "(6.52, 2.78)\n",
      "(1.7, 1.35)\n",
      "(3.9, 2.13)\n",
      "(0.84, 0)\n",
      "(1.59, 1.02)\n",
      "(6.86, 3.77)\n",
      "(8.22, 3.17)\n",
      "(1.88, 0)\n",
      "(3.17, 0.54)\n",
      "(13.08, 5.18)\n",
      "(6.98, 2.82)\n",
      "(1.68, 0.64)\n",
      "(6.19, 3.43)\n",
      "(1.02, 0)\n"
     ]
    }
   ],
   "source": [
    "for pair in winners:\n",
    "    print (pair)"
   ]
  },
  {
   "cell_type": "markdown",
   "metadata": {},
   "source": [
    "# Problem 3(d). Preparing for R.\n",
    "\n",
    "For future use, split your list of ordered pairs from Problem 3(b) (not 3(c)!) into two lists.  The first list should contain the $c$ values, and the second list should contain the $n_e$ values."
   ]
  },
  {
   "cell_type": "code",
   "execution_count": 137,
   "metadata": {
    "collapsed": true
   },
   "outputs": [],
   "source": [
    "c=[]\n",
    "nerr=[]\n",
    "for pair in newResults:\n",
    "    c.append(pair[0])\n",
    "    nerr.append(pair[1])"
   ]
  },
  {
   "cell_type": "code",
   "execution_count": 138,
   "metadata": {},
   "outputs": [
    {
     "data": {
      "text/plain": [
       "True"
      ]
     },
     "execution_count": 138,
     "metadata": {},
     "output_type": "execute_result"
    }
   ],
   "source": [
    "len(c) == len(nerr)"
   ]
  }
 ],
 "metadata": {
  "kernelspec": {
   "display_name": "Python 3",
   "language": "python",
   "name": "python3"
  },
  "language_info": {
   "codemirror_mode": {
    "name": "ipython",
    "version": 3
   },
   "file_extension": ".py",
   "mimetype": "text/x-python",
   "name": "python",
   "nbconvert_exporter": "python",
   "pygments_lexer": "ipython3",
   "version": "3.6.2"
  }
 },
 "nbformat": 4,
 "nbformat_minor": 1
}
