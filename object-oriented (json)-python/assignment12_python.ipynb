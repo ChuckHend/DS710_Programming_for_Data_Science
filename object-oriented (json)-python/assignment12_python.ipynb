{
 "cells": [
  {
   "cell_type": "markdown",
   "metadata": {},
   "source": [
    "# Problem 1(a).  A collectible card class.\n",
    "\n",
    "You are tasked with organizing information about a Magic: The Gathering card collection.  You are particularly interested in which cards are most rare, and therefore most valuable. Since the game is often played with decks that focus on a particular color or two, you are also interested in the colors of the cards. \n",
    "\n",
    "The MTG JSON website (http://mtgjson.com/) has information about different sets of Magic: The Gathering cards in JSON format.  Using the [Example Card](http://mtgjson.com/#exampleCard) information (scroll down if you don't see it!), create a MagicCard class to store relevant information about Magic cards in Python.  \n",
    "\n",
    "The main features we are interested in are name, colors, and rarity.  Cards may have multiple colors: i.e. a Blue Black card is both blue AND black.  \"Colorless\" is not a color.\n",
    "\n",
    "Consider:\n",
    "\n",
    "* How should someone initialize an instance of your class?\n",
    "* What functions should your class have?\n",
    "\n",
    "Your class may have multiple methods for initialization, but at least one of the should accept the MTG JSON represntation of a card as input."
   ]
  },
  {
   "cell_type": "code",
   "execution_count": 1,
   "metadata": {},
   "outputs": [],
   "source": [
    "import json\n",
    "# MTG example json saved in exampleCard.json\n",
    "data = json.load(open('exampleCard.json'), strict = False)"
   ]
  },
  {
   "cell_type": "code",
   "execution_count": 2,
   "metadata": {},
   "outputs": [
    {
     "data": {
      "text/plain": [
       "{'artist': 'Greg Staples',\n",
       " 'cmc': 5,\n",
       " 'colors': ['White', 'Blue', 'Black'],\n",
       " 'flavor': 'They are the masters of your mind.',\n",
       " 'id': '3129aee7f26a4282ce131db7d417b1bc3338c4d4',\n",
       " 'imageName': 'sen triplets',\n",
       " 'layout': 'normal',\n",
       " 'manaCost': '{2}{W}{U}{B}',\n",
       " 'multiverseid': 180607,\n",
       " 'name': 'Sen Triplets',\n",
       " 'number': '109',\n",
       " 'power': '3',\n",
       " 'rarity': 'Mythic Rare',\n",
       " 'subtypes': ['Human', 'Wizard'],\n",
       " 'supertypes': ['Legendary'],\n",
       " 'text': \"At the beginning of your upkeep, choose target opponent.\\n\\t         This turn, that player can't cast spells or activate\\n\\t         abilities and plays with his or her hand revealed.\\n\\t         You may play cards from that player's hand this turn.\",\n",
       " 'toughness': '3',\n",
       " 'type': 'Legendary Artifact Creature — Human Wizard',\n",
       " 'types': ['Artifact', 'Creature']}"
      ]
     },
     "execution_count": 2,
     "metadata": {},
     "output_type": "execute_result"
    }
   ],
   "source": [
    "data"
   ]
  },
  {
   "cell_type": "code",
   "execution_count": 3,
   "metadata": {
    "collapsed": true
   },
   "outputs": [],
   "source": [
    "class MTG_card(object):\n",
    "    # constructors\n",
    "    def __init__(self, name = \"\", colors = [], rarity = \"\", power = ''):\n",
    "        '''default constructor'''\n",
    "        self.name = name\n",
    "        self.colors = colors\n",
    "        self.rarity = rarity\n",
    "        self.power = power\n",
    "    \n",
    "    @classmethod\n",
    "    def from_json(cls, jsonFile):\n",
    "        '''construct from json'''\n",
    "        name = jsonFile['name']\n",
    "        if 'colors' in jsonFile.keys():\n",
    "            colors = jsonFile['colors']\n",
    "        else: \n",
    "            colors = None\n",
    "        if 'power' in jsonFile.keys():\n",
    "            power = jsonFile['power']\n",
    "        else:\n",
    "            power = None\n",
    "            \n",
    "        rarity = jsonFile['rarity']\n",
    "        \n",
    "        return cls(name, colors, rarity, power)\n",
    "    \n",
    "    # getters\n",
    "    def get_info(self):\n",
    "        '''return all info'''\n",
    "        d = dict({'Name: ':self.name, \n",
    "                'Colors: ': self.colors, \n",
    "                'Rarity: ': self.rarity,\n",
    "                'Power: ': self.power})\n",
    "        return d\n",
    "    \n",
    "    def get_name(self):\n",
    "        return self.name\n",
    "    \n",
    "    def get_colors(self):\n",
    "        return self.colors\n",
    "    \n",
    "    def get_rarity(self):\n",
    "        return self.rarity\n",
    "    \n",
    "    def get_power(self):\n",
    "        return self.power\n",
    "    \n",
    "    # setters\n",
    "    def set_from_json(self, jsonFile):\n",
    "        '''set all info from a json'''\n",
    "        self.name = jsonFile['name']\n",
    "        self.colors = jsonFile['colors']\n",
    "        self.rarity = jsonFile['rarity']\n",
    "        self.power = jsonFile['power']       \n",
    "    \n",
    "    def set_name(self, name):\n",
    "        self.name = name\n",
    "    \n",
    "    def set_colors(self, colors):\n",
    "        self.colors = [colors]\n",
    "\n",
    "    def set_rarity(self, rarity):\n",
    "        self.rarity = rarity\n",
    "        \n",
    "    def set_power(self, power):\n",
    "        self.power = power"
   ]
  },
  {
   "cell_type": "code",
   "execution_count": 4,
   "metadata": {},
   "outputs": [
    {
     "data": {
      "text/plain": [
       "{'Colors: ': ['White', 'Blue', 'Black'],\n",
       " 'Name: ': 'Sen Triplets',\n",
       " 'Power: ': '3',\n",
       " 'Rarity: ': 'Mythic Rare'}"
      ]
     },
     "execution_count": 4,
     "metadata": {},
     "output_type": "execute_result"
    }
   ],
   "source": [
    "exMTG = MTG_card.from_json(data)\n",
    "exMTG.get_info()"
   ]
  },
  {
   "cell_type": "markdown",
   "metadata": {},
   "source": [
    "# Problem 1(b). Class for a set of Magic cards.\n",
    "\n",
    "Download the data for the Dragons of Tarkir (abbreviated as DTK) set from the [Individual Sets](http://mtgjson.com/#individualSets) section of the MTG JSON page.  Create a MagicCardSet class to store relevant information about a set of Magic cards, and create an instance of the class which contains all of the information about the Dragons of Tarkir set.  Your class should use your MTG Set class should store the relevant MTG Cards as instances of your MTG Card class."
   ]
  },
  {
   "cell_type": "code",
   "execution_count": 5,
   "metadata": {},
   "outputs": [],
   "source": [
    "DTK = json.load(open('DTK.json'), strict = False)"
   ]
  },
  {
   "cell_type": "code",
   "execution_count": 6,
   "metadata": {},
   "outputs": [],
   "source": [
    "import pandas as pd\n",
    "class MagicCardSet(object):\n",
    "    \n",
    "    '''builds a list pf objects of class MTG_card'''\n",
    "    def __init__(self, cards = ''):\n",
    "        self.cards = cards\n",
    "        \n",
    "    @classmethod\n",
    "    def from_json(cls, jsonFile):\n",
    "        '''construct from json'''\n",
    "        cards = [MTG_card.from_json(x) for x in jsonFile['cards']]\n",
    "        return cls(cards)\n",
    "    \n",
    "    def get_card_names(self):\n",
    "        return [x.get_name() for x in self.cards]\n",
    "    \n",
    "    def rarest_level(self):\n",
    "        rarity_levels = {'Common':0, \n",
    "                         'Uncommon':0,\n",
    "                         'Rare':0,\n",
    "                         'Mythic Rare':0}\n",
    "        df = pd.DataFrame(rarity_levels, index=[0])\n",
    "        for card in self.cards:\n",
    "            if card.rarity in ['Basic Land']:\n",
    "                pass\n",
    "            else:\n",
    "                df[card.rarity] = df[card.rarity] + 1\n",
    "\n",
    "        return df.idxmin(axis=1).values[0]\n",
    "        \n",
    "    def get_rarity_cards_colors(self, rarity='Mythic Rare'):\n",
    "        \n",
    "        rarest_cards = {}\n",
    "        rarest = rarity #self.rarest_level()\n",
    "        \n",
    "        for card in self.cards:\n",
    "            if card.get_rarity() == rarest:\n",
    "                rarest_cards[card.get_name()]=card.get_colors()\n",
    "        \n",
    "        return rarest_cards\n",
    "    \n",
    "    def common_colors(self, rarity):\n",
    "        from collections import Counter\n",
    "        \n",
    "        def flatten(items):\n",
    "            for i in items:\n",
    "                if isinstance(i, (list,tuple)):\n",
    "                    for j in flatten(i):\n",
    "                        yield j\n",
    "                else:\n",
    "                    yield i\n",
    "\n",
    "        results = pd.DataFrame(Counter(flatten(dtk_set.get_rarity_cards_colors(rarity=rarity).values())), index=[0])\n",
    "\n",
    "        if None in results.columns:\n",
    "            results.drop(None, inplace=True, axis=1)\n",
    "        \n",
    "        maxNum = max(results.iloc[0,:])\n",
    "        results = results.columns[results.iloc[0,:]== maxNum].values\n",
    "        \n",
    "        if len(results) > 1:\n",
    "            print('{} colors are tied with {} counts in the \"{}\" category'.format(len(results),maxNum,rarity))\n",
    "        print('Most common colors:')\n",
    "        return list(results)"
   ]
  },
  {
   "cell_type": "code",
   "execution_count": 7,
   "metadata": {},
   "outputs": [],
   "source": [
    "dtk_set = MagicCardSet.from_json(DTK)"
   ]
  },
  {
   "cell_type": "markdown",
   "metadata": {},
   "source": [
    "# Problem 1(c).  Dragons of Tarkir.\n",
    "\n",
    "The MTG rarity levels are \"Common\", \"Uncommon\", \"Rare\", and \"Mythic Rare\". What are the rarest cards in the Dragons of Tarkir set (meaning list all card names that are from the least common rarity level)?  What colors are they associated with? You might be able to guess by the rarity level names which rarity level is least common, but we want you to use code to verify which is least common, and then print the card names and colors of those cards.\n",
    "\n",
    "* For purposes of this question, do not consider \"Basic Land\" as a rarity level.\n",
    "\n",
    "Write an MTG Set class method to answer this question, then create a markdown cell which explains your method and conclusions. "
   ]
  },
  {
   "cell_type": "code",
   "execution_count": 8,
   "metadata": {},
   "outputs": [
    {
     "data": {
      "text/plain": [
       "'Mythic Rare'"
      ]
     },
     "execution_count": 8,
     "metadata": {},
     "output_type": "execute_result"
    }
   ],
   "source": [
    "# Rarest rarity level\n",
    "dtk_set.rarest_level()"
   ]
  },
  {
   "cell_type": "code",
   "execution_count": 9,
   "metadata": {},
   "outputs": [
    {
     "data": {
      "text/plain": [
       "{'Clone Legion': ['Blue'],\n",
       " 'Deathmist Raptor': ['Green'],\n",
       " 'Descent of the Dragons': ['Red'],\n",
       " 'Dragon Whisperer': ['Red'],\n",
       " 'Dragonlord Atarka': ['Red', 'Green'],\n",
       " 'Dragonlord Dromoka': ['White', 'Green'],\n",
       " 'Dragonlord Kolaghan': ['Black', 'Red'],\n",
       " 'Dragonlord Ojutai': ['White', 'Blue'],\n",
       " 'Dragonlord Silumgar': ['Blue', 'Black'],\n",
       " 'Narset Transcendent': ['White', 'Blue'],\n",
       " 'Ojutai Exemplars': ['White'],\n",
       " 'Risen Executioner': ['Black'],\n",
       " 'Sarkhan Unbroken': ['Blue', 'Red', 'Green'],\n",
       " 'Shaman of Forgotten Ways': ['Green'],\n",
       " 'Shorecrasher Elemental': ['Blue']}"
      ]
     },
     "execution_count": 9,
     "metadata": {},
     "output_type": "execute_result"
    }
   ],
   "source": [
    "# Rarest Cards and their colors\n",
    "dtk_set.get_rarity_cards_colors(rarity=dtk_set.rarest_level())"
   ]
  },
  {
   "cell_type": "markdown",
   "metadata": {},
   "source": [
    "## Explanation\n",
    "* The get_rarity_cards_colors() method returns the card name and colors for any rarity category. A separate method confirms the rarest category. I split this to keep the get_rarity_cards_colors() method more general for maximum usability (we can now easily determine name and colors for any of the rarity categories)\n",
    "* rarest_level() confirms the rarest category\n",
    "* Thus, get_rarity_cards_colors(rarity=dtk_set.rarest_level()) will return names of the rarest category and their colors"
   ]
  },
  {
   "cell_type": "markdown",
   "metadata": {},
   "source": [
    "# Problem 1(d). Common color for Uncommon cards\n",
    "\n",
    "Write a class method or Python function to determine which color is most represented among Uncommon cards.  Remember, \"colorless\" is not a color, and a card that is Blue Black counts as a Blue card and a Black card.\n",
    "\n",
    "When deciding between a class method or a python function, what was your reasoning? (\"X was easier for me to code\" is not a good reason!)"
   ]
  },
  {
   "cell_type": "code",
   "execution_count": 10,
   "metadata": {},
   "outputs": [
    {
     "name": "stdout",
     "output_type": "stream",
     "text": [
      "5 colors are tied with 19 counts in the \"Common\" category\n",
      "Most common colors:\n"
     ]
    },
    {
     "data": {
      "text/plain": [
       "['White', 'Blue', 'Black', 'Red', 'Green']"
      ]
     },
     "execution_count": 10,
     "metadata": {},
     "output_type": "execute_result"
    }
   ],
   "source": [
    "# this should be internal to class since it is specific to this class. Especially since I added some output language \n",
    "# that is specific to MTG\n",
    "dtk_set.common_colors('Common')"
   ]
  },
  {
   "cell_type": "code",
   "execution_count": 11,
   "metadata": {},
   "outputs": [
    {
     "name": "stdout",
     "output_type": "stream",
     "text": [
      "Common\n",
      "5 colors are tied with 19 counts in the \"Common\" category\n",
      "Most common colors:\n",
      "['White', 'Blue', 'Black', 'Red', 'Green']\n",
      "\n",
      "\n",
      "Uncommon\n",
      "5 colors are tied with 15 counts in the \"Uncommon\" category\n",
      "Most common colors:\n",
      "['White', 'Blue', 'Black', 'Red', 'Green']\n",
      "\n",
      "\n",
      "Rare\n",
      "2 colors are tied with 13 counts in the \"Rare\" category\n",
      "Most common colors:\n",
      "['White', 'Black']\n",
      "\n",
      "\n",
      "Mythic Rare\n",
      "Most common colors:\n",
      "['Blue']\n",
      "\n",
      "\n"
     ]
    }
   ],
   "source": [
    "# take a look at all the rarity categories\n",
    "rares = ['Common', 'Uncommon', 'Rare', 'Mythic Rare']\n",
    "for rare in rares:\n",
    "    print(rare)\n",
    "    print(dtk_set.common_colors(rare))\n",
    "    print('\\n')"
   ]
  }
 ],
 "metadata": {
  "anaconda-cloud": {},
  "kernelspec": {
   "display_name": "Python 3",
   "language": "python",
   "name": "python3"
  },
  "language_info": {
   "codemirror_mode": {
    "name": "ipython",
    "version": 3
   },
   "file_extension": ".py",
   "mimetype": "text/x-python",
   "name": "python",
   "nbconvert_exporter": "python",
   "pygments_lexer": "ipython3",
   "version": "3.6.2"
  }
 },
 "nbformat": 4,
 "nbformat_minor": 1
}
